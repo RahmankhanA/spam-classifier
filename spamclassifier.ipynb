{
  "nbformat": 4,
  "nbformat_minor": 0,
  "metadata": {
    "colab": {
      "name": "spamclassifier.ipynb",
      "provenance": [],
      "private_outputs": true,
      "toc_visible": true,
      "authorship_tag": "ABX9TyO6W0trfGaaqc8W0Md0/Imz",
      "include_colab_link": true
    },
    "kernelspec": {
      "name": "python3",
      "display_name": "Python 3"
    },
    "accelerator": "GPU"
  },
  "cells": [
    {
      "cell_type": "markdown",
      "metadata": {
        "id": "view-in-github",
        "colab_type": "text"
      },
      "source": [
        "<a href=\"https://colab.research.google.com/github/RahmankhanA/spam-classifier/blob/main/spamclassifier.ipynb\" target=\"_parent\"><img src=\"https://colab.research.google.com/assets/colab-badge.svg\" alt=\"Open In Colab\"/></a>"
      ]
    },
    {
      "cell_type": "code",
      "metadata": {
        "id": "Gzo7ZwTalfJh"
      },
      "source": [
        "import pandas as pd\n"
      ],
      "execution_count": null,
      "outputs": []
    },
    {
      "cell_type": "code",
      "metadata": {
        "id": "URE7lspwm-LI"
      },
      "source": [
        "messages=pd.read_csv(\"SMSSpamCollection\", sep='\\t', names=['label', 'message'])"
      ],
      "execution_count": null,
      "outputs": []
    },
    {
      "cell_type": "code",
      "metadata": {
        "id": "LGrsPhr_nWzI"
      },
      "source": [
        "messages.head()"
      ],
      "execution_count": null,
      "outputs": []
    },
    {
      "cell_type": "markdown",
      "metadata": {
        "id": "kGZ2nabko3It"
      },
      "source": [
        "# ***Data cleaning and preprocessing***"
      ]
    },
    {
      "cell_type": "code",
      "metadata": {
        "id": "Hw3AhXNinkYl"
      },
      "source": [
        "import re\n",
        "import nltk"
      ],
      "execution_count": null,
      "outputs": []
    },
    {
      "cell_type": "code",
      "metadata": {
        "id": "gJb491uin4qE"
      },
      "source": [
        "nltk.download('stopwords')"
      ],
      "execution_count": null,
      "outputs": []
    },
    {
      "cell_type": "code",
      "metadata": {
        "id": "QZ5a_mXDoA10"
      },
      "source": [
        "from nltk.corpus import stopwords\n",
        "from nltk.stem.porter import PorterStemmer\n"
      ],
      "execution_count": null,
      "outputs": []
    },
    {
      "cell_type": "code",
      "metadata": {
        "id": "WBnO-a4BoWWE"
      },
      "source": [
        "ps=PorterStemmer()\n",
        "corpus=[]"
      ],
      "execution_count": null,
      "outputs": []
    },
    {
      "cell_type": "code",
      "metadata": {
        "id": "m4OZsOb0ofjV"
      },
      "source": [
        "for i in range(len(messages)):\n",
        "  review=re.sub('[^a-zA-Z]', ' ', messages['message'][i])\n",
        "  review=review.lower()\n",
        "  review=review.split()\n",
        "\n",
        "  review=[ ps.stem(word) for word in review if not word in stopwords.words('english')]\n",
        "  review=' '.join(review)\n",
        "  corpus.append(review)"
      ],
      "execution_count": null,
      "outputs": []
    },
    {
      "cell_type": "markdown",
      "metadata": {
        "id": "RXhPJf2Sawj_"
      },
      "source": [
        "# ***Creating Bag of words Model***"
      ]
    },
    {
      "cell_type": "code",
      "metadata": {
        "id": "12bsM1Lsw0Ef"
      },
      "source": [
        "from sklearn.feature_extraction.text import  CountVectorizer\n",
        "cv = CountVectorizer(max_features=5000)\n",
        "X=cv.fit_transform(corpus).toarray()"
      ],
      "execution_count": null,
      "outputs": []
    },
    {
      "cell_type": "code",
      "metadata": {
        "id": "E7UFZi5PHYeX"
      },
      "source": [
        ""
      ],
      "execution_count": null,
      "outputs": []
    },
    {
      "cell_type": "code",
      "metadata": {
        "id": "4L4RVn6tbcMZ"
      },
      "source": [
        "y=pd.get_dummies(messages['label'])\n",
        "print(y.shape)\n",
        "y=y.iloc[:,1].values"
      ],
      "execution_count": null,
      "outputs": []
    },
    {
      "cell_type": "code",
      "metadata": {
        "id": "VCzDUHU1G8tB"
      },
      "source": [
        "X.shape, y.shape"
      ],
      "execution_count": null,
      "outputs": []
    },
    {
      "cell_type": "code",
      "metadata": {
        "id": "TL4xuP8rHNp_"
      },
      "source": [
        "y\n"
      ],
      "execution_count": null,
      "outputs": []
    },
    {
      "cell_type": "markdown",
      "metadata": {
        "id": "LKwW4SQyJR0R"
      },
      "source": [
        "# ***Splitting into training and testing***"
      ]
    },
    {
      "cell_type": "code",
      "metadata": {
        "id": "R6zhEREQIRlC"
      },
      "source": [
        "from sklearn.model_selection import train_test_split\n",
        "X_train, X_test,y_train, y_test= train_test_split(X,y, test_size=0.25, random_state=0)"
      ],
      "execution_count": null,
      "outputs": []
    },
    {
      "cell_type": "code",
      "metadata": {
        "id": "Gs1yfo6_JQ_5"
      },
      "source": [
        "from sklearn.naive_bayes import MultinomialNB\n",
        "spam_detect_model= MultinomialNB().fit(X_train, y_train)"
      ],
      "execution_count": null,
      "outputs": []
    },
    {
      "cell_type": "code",
      "metadata": {
        "id": "EEmxk4Q-J7XD"
      },
      "source": [
        "y_pred= spam_detect_model.predict(X_test)"
      ],
      "execution_count": null,
      "outputs": []
    },
    {
      "cell_type": "code",
      "metadata": {
        "id": "kp8hh-zoKDmP"
      },
      "source": [
        "y_pred, y_test"
      ],
      "execution_count": null,
      "outputs": []
    },
    {
      "cell_type": "code",
      "metadata": {
        "id": "DW1TGkEjKSVP"
      },
      "source": [
        "from sklearn.metrics import confusion_matrix, accuracy_score\n",
        "confusion_m=confusion_matrix(y_test, y_pred)\n",
        "\n",
        "confusion_m"
      ],
      "execution_count": null,
      "outputs": []
    },
    {
      "cell_type": "code",
      "metadata": {
        "id": "B8SLIhglK7ZY"
      },
      "source": [
        "accuracy= accuracy_score(y_test, y_pred)\n",
        "accuracy"
      ],
      "execution_count": null,
      "outputs": []
    },
    {
      "cell_type": "code",
      "metadata": {
        "id": "HeAoaZ3yLVxg"
      },
      "source": [
        "X_test.shape"
      ],
      "execution_count": null,
      "outputs": []
    },
    {
      "cell_type": "code",
      "metadata": {
        "id": "LYIr1aXOLj2P"
      },
      "source": [
        ""
      ],
      "execution_count": null,
      "outputs": []
    }
  ]
}